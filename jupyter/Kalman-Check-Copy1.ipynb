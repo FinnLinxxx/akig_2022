{
 "cells": [
  {
   "cell_type": "markdown",
   "id": "e982aad1",
   "metadata": {},
   "source": [
    "# Kalman-Filter Elemente\n",
    "\n",
    "Verwenden sie die Nomenklautur aus der Literatur (P,F,x,H,y,K,...)"
   ]
  },
  {
   "cell_type": "code",
   "execution_count": null,
   "id": "3e308efd",
   "metadata": {},
   "outputs": [],
   "source": [
    "import numpy as np\n",
    "np.set_printoptions(precision=5)\n",
    "np.set_printoptions(suppress=True)"
   ]
  }
 ],
 "metadata": {
  "kernelspec": {
   "display_name": "Python 3 (ipykernel)",
   "language": "python",
   "name": "python3"
  },
  "language_info": {
   "codemirror_mode": {
    "name": "ipython",
    "version": 3
   },
   "file_extension": ".py",
   "mimetype": "text/x-python",
   "name": "python",
   "nbconvert_exporter": "python",
   "pygments_lexer": "ipython3",
   "version": "3.8.10"
  }
 },
 "nbformat": 4,
 "nbformat_minor": 5
}
