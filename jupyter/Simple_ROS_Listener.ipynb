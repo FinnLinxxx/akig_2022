{
 "cells": [
  {
   "cell_type": "code",
   "execution_count": null,
   "id": "8f47f885",
   "metadata": {},
   "outputs": [
    {
     "name": "stdout",
     "output_type": "stream",
     "text": [
      "1639678233\n",
      "(0.0, 0.0, 0.0, 0.0)\n",
      "1639678233\n",
      "(0.0, 0.0, 0.0, 0.0)\n",
      "1639678234\n",
      "(0.0, 0.0, 0.0, 0.0)\n",
      "1639678234\n",
      "(0.0, 0.0, 0.0, 0.0)\n",
      "1639678234\n",
      "(0.0, 0.0, 0.0, 0.0)\n",
      "1639678234\n",
      "(0.0, 0.0, 0.0, 0.0)\n",
      "1639678234\n",
      "(0.0, 0.0, 0.0, 0.0)\n",
      "1639678234\n",
      "(0.0, 0.0, 0.0, 0.0)\n",
      "1639678234\n",
      "(0.0, 0.0, 0.0, 0.0)\n"
     ]
    }
   ],
   "source": [
    "import rospy\n",
    "from std_msgs.msg import String\n",
    "from sensor_msgs.msg import JointState\n",
    "\n",
    "def callback(msg):\n",
    "    #rospy.loginfo(rospy.get_caller_id() + 'I heard %s', data.data)\n",
    "    print(msg.header.stamp.secs)\n",
    "    print(msg.position)\n",
    "\n",
    "def listener():\n",
    "\n",
    "    # In ROS, nodes are uniquely named. If two nodes with the same\n",
    "    # name are launched, the previous one is kicked off. The\n",
    "    # anonymous=True flag means that rospy will choose a unique\n",
    "    # name for our 'listener' node so that multiple listeners can\n",
    "    # run simultaneously.\n",
    "    rospy.init_node('listener', anonymous=True)\n",
    "\n",
    "    rospy.Subscriber('/joint_states', JointState, callback)\n",
    "\n",
    "    # spin() simply keeps python from exiting until this node is stopped\n",
    "    rospy.spin()\n",
    "\n",
    "if __name__ == '__main__':\n",
    "    listener()"
   ]
  },
  {
   "cell_type": "code",
   "execution_count": null,
   "id": "dcf1c7cd",
   "metadata": {},
   "outputs": [],
   "source": []
  }
 ],
 "metadata": {
  "kernelspec": {
   "display_name": "Python 3 (ipykernel)",
   "language": "python",
   "name": "python3"
  },
  "language_info": {
   "codemirror_mode": {
    "name": "ipython",
    "version": 3
   },
   "file_extension": ".py",
   "mimetype": "text/x-python",
   "name": "python",
   "nbconvert_exporter": "python",
   "pygments_lexer": "ipython3",
   "version": "3.8.10"
  }
 },
 "nbformat": 4,
 "nbformat_minor": 5
}
